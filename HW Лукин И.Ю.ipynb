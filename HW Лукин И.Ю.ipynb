{
 "cells": [
  {
   "cell_type": "code",
   "execution_count": 2,
   "metadata": {},
   "outputs": [],
   "source": [
    "#Импортируем библиотеки\n",
    "import numpy as np"
   ]
  },
  {
   "cell_type": "markdown",
   "metadata": {
    "id": "DQQFfNTLJ20S"
   },
   "source": [
    "# Задание 1"
   ]
  },
  {
   "cell_type": "code",
   "execution_count": 1,
   "metadata": {
    "id": "XqAzbM6WJyE2"
   },
   "outputs": [
    {
     "name": "stdout",
     "output_type": "stream",
     "text": [
      "(AxB)xC\n"
     ]
    }
   ],
   "source": [
    "#ваш код\n",
    "def multiplication_order(A, B, C):\n",
    "    # Получаем размерности матриц\n",
    "    rows_a = len(A)        # количество строк матрицы A\n",
    "    cols_a = len(A[0])     # количество столбцов матрицы A\n",
    "    rows_b = len(B)        # количество строк матрицы B\n",
    "    cols_b = len(B[0])     # количество столбцов матрицы B\n",
    "    rows_c = len(C)        # количество строк матрицы C\n",
    "    cols_c = len(C[0])     # количество столбцов матрицы C\n",
    "\n",
    "    # Вычисляем количество умножений для порядка (AxB)xC\n",
    "    mult_ab = rows_a * cols_a * cols_b     # умножения для A×B\n",
    "    mult_abc = rows_a * cols_b * cols_c     # умножения для (AB)×C\n",
    "    total_left = mult_ab + mult_abc         # общее количество умножений\n",
    "\n",
    "    # Вычисляем количество умножений для порядка Ax(BxC)\n",
    "    mult_bc = rows_b * cols_b * cols_c      # умножения для B×C\n",
    "    mult_abc2 = rows_a * cols_a * cols_c    # умножения для A×(BC)\n",
    "    total_right = mult_bc + mult_abc2       # общее количество умножений\n",
    "\n",
    "    # Возвращаем наиболее эффективный порядок умножения\n",
    "    return \"(AxB)xC\" if total_left <= total_right else \"Ax(BxC)\"\n",
    "\n",
    "A = [[1,2]]\n",
    "B = [[2],[1]]\n",
    "C = [[5]]\n",
    "print(multiplication_order(A, B, C))"
   ]
  },
  {
   "cell_type": "markdown",
   "metadata": {
    "id": "vQvUEt_KKShX"
   },
   "source": [
    "# Задание 2\n"
   ]
  },
  {
   "cell_type": "code",
   "execution_count": 3,
   "metadata": {
    "id": "TMJq9ob2KYBY"
   },
   "outputs": [
    {
     "name": "stdout",
     "output_type": "stream",
     "text": [
      "Индексы наиболее и наименее коррелирующих признаков: (3, 2)\n"
     ]
    }
   ],
   "source": [
    "#ваш код\n",
    "def best_worst(X, Y):\n",
    "    # Импортируем numpy для работы с массивами\n",
    "    import numpy as np\n",
    "\n",
    "    # Получаем количество признаков\n",
    "    n_features = X.shape[1]\n",
    "\n",
    "    # Создаем массив для хранения корреляций\n",
    "    correlations = np.zeros(n_features)\n",
    "\n",
    "    # Вычисляем корреляцию для каждого признака с ценой\n",
    "    for i in range(n_features):\n",
    "        # Используем np.corrcoef для расчета корреляции\n",
    "        corr_matrix = np.corrcoef(X[:, i], Y)\n",
    "        correlations[i] = corr_matrix[0, 1]\n",
    "\n",
    "    # Находим индексы максимальной и минимальной корреляции по модулю\n",
    "    max_corr_idx = np.argmax(np.abs(correlations))\n",
    "    min_corr_idx = np.argmin(np.abs(correlations))\n",
    "\n",
    "    return (max_corr_idx, min_corr_idx)\n",
    "\n",
    "# Создаем матрицу признаков X\n",
    "X = np.array([\n",
    "    [3, 51, 3, 0, 1, 0],\n",
    "    [1, 30, 1, 0, 1, 0],\n",
    "    [2, 45, 2, 0, 1, 0],\n",
    "    [3, 55, 1, 0, 1, 0],\n",
    "    [1, 45, 3, 1, 0, 0],\n",
    "    [3, 100, 3, 1, 0, 0],\n",
    "    [2, 71, 2, 1, 0, 0],\n",
    "    [1, 31, 2, 0, 0, 1],\n",
    "    [3, 53, 5, 0, 0, 1],\n",
    "    [1, 33, 3, 0, 0, 1],\n",
    "    [2, 43, 5, 0, 0, 1]\n",
    "])\n",
    "\n",
    "# Создаем вектор цен Y\n",
    "Y = np.array([2200, 1600, 1900, 2000, 4500, 7000, 5000, 1700, 2100, 1500, 2000])\n",
    "\n",
    "# Вызываем функцию\n",
    "result = best_worst(X, Y)\n",
    "print(f\"Индексы наиболее и наименее коррелирующих признаков: {result}\")"
   ]
  },
  {
   "cell_type": "markdown",
   "metadata": {
    "id": "hindpJMCKhB8"
   },
   "source": [
    "# Задание 3"
   ]
  },
  {
   "cell_type": "code",
   "execution_count": 4,
   "metadata": {
    "id": "-YLajcsEKkuQ"
   },
   "outputs": [
    {
     "name": "stdout",
     "output_type": "stream",
     "text": [
      "Ранг корреляционной матрицы: 5\n"
     ]
    }
   ],
   "source": [
    "#ваш код\n",
    "def corr_rank(X):\n",
    "    # Создаем корреляционную матрицу\n",
    "    correlation_matrix = np.corrcoef(X.T)\n",
    "\n",
    "    # Вычисляем ранг корреляционной матрицы\n",
    "    rank = np.linalg.matrix_rank(correlation_matrix)\n",
    "\n",
    "    return rank\n",
    "\n",
    "# Пример использования с данными о недвижимости\n",
    "X = np.array([\n",
    "    [3, 51, 3, 0, 1, 0],\n",
    "    [1, 30, 1, 0, 1, 0],\n",
    "    [2, 45, 2, 0, 1, 0],\n",
    "    [3, 55, 1, 0, 1, 0],\n",
    "    [1, 45, 3, 1, 0, 0],\n",
    "    [3, 100, 3, 1, 0, 0],\n",
    "    [2, 71, 2, 1, 0, 0],\n",
    "    [1, 31, 2, 0, 0, 1],\n",
    "    [3, 53, 5, 0, 0, 1],\n",
    "    [1, 33, 3, 0, 0, 1],\n",
    "    [2, 43, 5, 0, 0, 1]\n",
    "])\n",
    "\n",
    "rank = corr_rank(X)\n",
    "print(f\"Ранг корреляционной матрицы: {rank}\")"
   ]
  },
  {
   "cell_type": "markdown",
   "metadata": {
    "id": "tKweU9DCKk-f"
   },
   "source": [
    "# Задание 4"
   ]
  },
  {
   "cell_type": "code",
   "execution_count": 6,
   "metadata": {
    "id": "pi2fjbkjKmzi"
   },
   "outputs": [
    {
     "name": "stdout",
     "output_type": "stream",
     "text": [
      "Обратная матрица:\n",
      "[[-0.33333333  0.66666667]\n",
      " [ 0.66666667 -0.33333333]]\n",
      "Обратная матрица:\n",
      "None\n"
     ]
    }
   ],
   "source": [
    "#ваш код\n",
    "def inverse_matrix(A):\n",
    "    # Вычисляем определитель матрицы\n",
    "    det = np.linalg.det(A)\n",
    "\n",
    "    # Проверяем условие обратимости матрицы\n",
    "    if abs(det) < 0.001:\n",
    "        return None\n",
    "\n",
    "    # Вычисляем обратную матрицу\n",
    "    inverse = np.linalg.inv(A)\n",
    "    return inverse\n",
    "\n",
    "A = np.array([[1, 2], [2, 1]])\n",
    "\n",
    "result = inverse_matrix(A)\n",
    "print(\"Обратная матрица:\")\n",
    "print(result)\n",
    "\n",
    "A = np.array([\n",
    "    [3, 51, 3, 0, 1, 0],\n",
    "    [1, 30, 1, 0, 1, 0],\n",
    "    [2, 45, 2, 0, 1, 0],\n",
    "    [3, 55, 1, 0, 1, 0],\n",
    "    [1, 45, 3, 1, 0, 0],\n",
    "    [3, 100, 3, 1, 0, 0],\n",
    "    ])\n",
    "\n",
    "result = inverse_matrix(A)\n",
    "print(\"Обратная матрица:\")\n",
    "print(result)"
   ]
  },
  {
   "cell_type": "markdown",
   "metadata": {
    "id": "pnIqMUVsKnTq"
   },
   "source": [
    "# Задание 5"
   ]
  },
  {
   "cell_type": "code",
   "execution_count": null,
   "metadata": {
    "id": "g34wFIBuKpmL"
   },
   "outputs": [],
   "source": [
    "#ваш код"
   ]
  }
 ],
 "metadata": {
  "colab": {
   "provenance": []
  },
  "kernelspec": {
   "display_name": "Python 3 (ipykernel)",
   "language": "python",
   "name": "python3"
  },
  "language_info": {
   "codemirror_mode": {
    "name": "ipython",
    "version": 3
   },
   "file_extension": ".py",
   "mimetype": "text/x-python",
   "name": "python",
   "nbconvert_exporter": "python",
   "pygments_lexer": "ipython3",
   "version": "3.12.4"
  }
 },
 "nbformat": 4,
 "nbformat_minor": 4
}
